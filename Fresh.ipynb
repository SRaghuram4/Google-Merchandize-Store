{
 "cells": [
  {
   "cell_type": "markdown",
   "metadata": {},
   "source": [
    "# Google Merchandize Store "
   ]
  },
  {
   "cell_type": "markdown",
   "metadata": {},
   "source": [
    "According to the data provided, some of the fields are in JSON format which need to be converted into dataframe formats. We do have a code for it. "
   ]
  },
  {
   "cell_type": "markdown",
   "metadata": {},
   "source": [
    "### Important imports"
   ]
  },
  {
   "cell_type": "code",
   "execution_count": 1,
   "metadata": {
    "collapsed": true
   },
   "outputs": [],
   "source": [
    "import pandas as pd\n",
    "import numpy as np\n",
    "import matplotlib.pyplot as plt \n",
    "import json\n",
    "from pandas.io.json import json_normalize"
   ]
  },
  {
   "cell_type": "code",
   "execution_count": 231,
   "metadata": {
    "collapsed": true
   },
   "outputs": [],
   "source": [
    "import seaborn as sns"
   ]
  },
  {
   "cell_type": "code",
   "execution_count": 4,
   "metadata": {},
   "outputs": [
    {
     "data": {
      "text/plain": [
       "'0.23.4'"
      ]
     },
     "execution_count": 4,
     "metadata": {},
     "output_type": "execute_result"
    }
   ],
   "source": [
    "pd.__version__"
   ]
  },
  {
   "cell_type": "code",
   "execution_count": 232,
   "metadata": {
    "collapsed": true
   },
   "outputs": [],
   "source": [
    "# Lets us define the JSON columns first\n",
    "JSON_cols = [\n",
    "             'device',\n",
    "             'geoNetwork', \n",
    "             'totals',\n",
    "             'trafficSource'\n",
    "            ]"
   ]
  },
  {
   "cell_type": "code",
   "execution_count": 233,
   "metadata": {
    "collapsed": true
   },
   "outputs": [],
   "source": [
    "# df1 = pd.read_csv(\"../train.csv\")"
   ]
  },
  {
   "cell_type": "code",
   "execution_count": 234,
   "metadata": {
    "collapsed": true
   },
   "outputs": [],
   "source": [
    "# df2 = df1.iloc[:250000,]\n",
    "# df3 = df1.iloc[:300000,]\n",
    "# df4 = df1.iloc[:350000,]\n",
    "# df5 = df1.iloc[:400000,]\n",
    "# df5 = df1.iloc[:600000,]\n"
   ]
  },
  {
   "cell_type": "code",
   "execution_count": 235,
   "metadata": {
    "collapsed": true
   },
   "outputs": [],
   "source": [
    "# # df2.to_csv(\"../new_train2.csv\", index=False, header=True)\n",
    "# df3.to_csv(\"../new_train3.csv\", index=False, header=True)\n",
    "# df4.to_csv(\"../new_train4.csv\", index=False, header=True)\n",
    "# df5.to_csv(\"../new_train5.csv\", index=False, header=True)"
   ]
  },
  {
   "cell_type": "code",
   "execution_count": 236,
   "metadata": {
    "collapsed": true
   },
   "outputs": [],
   "source": [
    "# df2.head()"
   ]
  },
  {
   "cell_type": "markdown",
   "metadata": {},
   "source": [
    "### Conversion of JSON format"
   ]
  },
  {
   "cell_type": "code",
   "execution_count": 237,
   "metadata": {
    "collapsed": true
   },
   "outputs": [],
   "source": [
    "# # Lets us define the JSON columns first\n",
    "# JSON_cols = [\n",
    "#              'device',\n",
    "#              'geoNetwork', \n",
    "#              'totals',\n",
    "#              'trafficSource'\n",
    "#             ]"
   ]
  },
  {
   "cell_type": "code",
   "execution_count": 238,
   "metadata": {
    "collapsed": true
   },
   "outputs": [],
   "source": [
    "# df1.head()"
   ]
  },
  {
   "cell_type": "markdown",
   "metadata": {},
   "source": [
    "#### A function to extract and convert JSON columns\n"
   ]
  },
  {
   "cell_type": "code",
   "execution_count": 239,
   "metadata": {
    "collapsed": true
   },
   "outputs": [],
   "source": [
    "def load_df(csv_path):\n",
    "    \n",
    "    #first we will load the csv path and read the data\n",
    "    df = pd.read_csv(csv_path,\n",
    "                    converters= {column: json.loads for column in JSON_cols},\n",
    "                    dtype= {'fullVisitorId': 'str'} \n",
    "                    )\n",
    "    \n",
    "    for col in JSON_cols:\n",
    "        #read the JSON columns into different dataframe\n",
    "        json_df = json_normalize(df[col])\n",
    "        json_df.columns = [f\"{col}.{subcolumn}\" for subcolumn in json_df.columns]\n",
    "        df = df.drop(col, axis=1).merge(json_df, right_index=True, left_index=True)\n",
    "    return df"
   ]
  },
  {
   "cell_type": "code",
   "execution_count": 240,
   "metadata": {},
   "outputs": [
    {
     "name": "stdout",
     "output_type": "stream",
     "text": [
      "Wall time: 1min 11s\n"
     ]
    }
   ],
   "source": [
    "%%time\n",
    "df = load_df(\"../new_train4.csv\")"
   ]
  },
  {
   "cell_type": "code",
   "execution_count": 241,
   "metadata": {},
   "outputs": [
    {
     "data": {
      "text/plain": [
       "(350000, 55)"
      ]
     },
     "execution_count": 241,
     "metadata": {},
     "output_type": "execute_result"
    }
   ],
   "source": [
    "df.shape"
   ]
  },
  {
   "cell_type": "code",
   "execution_count": 299,
   "metadata": {
    "collapsed": true,
    "scrolled": true
   },
   "outputs": [],
   "source": [
    "df['totals.transactionRevenue'] = pd.to_numeric(df['totals.transactionRevenue'])"
   ]
  },
  {
   "cell_type": "code",
   "execution_count": null,
   "metadata": {
    "collapsed": true,
    "scrolled": true
   },
   "outputs": [],
   "source": []
  },
  {
   "cell_type": "markdown",
   "metadata": {},
   "source": [
    "## Data Cleaning\n"
   ]
  },
  {
   "cell_type": "markdown",
   "metadata": {},
   "source": [
    "### Find the percentage of nulls"
   ]
  },
  {
   "cell_type": "code",
   "execution_count": 242,
   "metadata": {},
   "outputs": [
    {
     "data": {
      "text/plain": [
       "0.5034342857142857"
      ]
     },
     "execution_count": 242,
     "metadata": {},
     "output_type": "execute_result"
    }
   ],
   "source": [
    "per = sum(df[\"totals.bounces\"].isnull())/len(df[\"totals.bounces\"])\n",
    "per"
   ]
  },
  {
   "cell_type": "code",
   "execution_count": 243,
   "metadata": {
    "collapsed": true
   },
   "outputs": [],
   "source": [
    "def per_calc(data_frame):\n",
    "    \"\"\"\n",
    "    a function to calcuate the percentage of number of nulls\n",
    "    param: a dataframe\n",
    "    return: an interger, percentage\n",
    "    \"\"\"\n",
    "    \n",
    "    #Calculate percentage\n",
    "    perc = (sum(data_frame.isnull())/len(data_frame))\n",
    "    \n",
    "    return perc\n",
    "   "
   ]
  },
  {
   "cell_type": "code",
   "execution_count": 244,
   "metadata": {},
   "outputs": [
    {
     "name": "stdout",
     "output_type": "stream",
     "text": [
      "Wall time: 4.57 s\n"
     ]
    }
   ],
   "source": [
    "%%time\n",
    "jj = df.apply(lambda x: per_calc(x))\n",
    "\n"
   ]
  },
  {
   "cell_type": "code",
   "execution_count": 62,
   "metadata": {},
   "outputs": [
    {
     "data": {
      "text/plain": [
       "'channelGrouping'"
      ]
     },
     "execution_count": 62,
     "metadata": {},
     "output_type": "execute_result"
    }
   ],
   "source": [
    "jj.index[0]"
   ]
  },
  {
   "cell_type": "code",
   "execution_count": 245,
   "metadata": {
    "collapsed": true,
    "scrolled": true
   },
   "outputs": [],
   "source": [
    "columns = [\"column\", \"value\"]\n",
    "one = pd.DataFrame(columns=columns, index=range(14))\n",
    "list1 = []\n",
    "list2 = []\n",
    "for i in range(len(jj)):\n",
    "    if jj[i] > 0:\n",
    "        list1.append(jj.index[i])\n",
    "        list2.append(jj[i])"
   ]
  },
  {
   "cell_type": "code",
   "execution_count": 246,
   "metadata": {
    "collapsed": true
   },
   "outputs": [],
   "source": [
    "one.column = list1\n",
    "one.value = list2"
   ]
  },
  {
   "cell_type": "code",
   "execution_count": 247,
   "metadata": {
    "collapsed": true
   },
   "outputs": [],
   "source": [
    "one = one.sort_values(axis=0, by=['value'], ascending=False)\n",
    "one.reset_index(inplace=True, drop = True)"
   ]
  },
  {
   "cell_type": "code",
   "execution_count": 248,
   "metadata": {},
   "outputs": [
    {
     "data": {
      "text/html": [
       "<div>\n",
       "<style scoped>\n",
       "    .dataframe tbody tr th:only-of-type {\n",
       "        vertical-align: middle;\n",
       "    }\n",
       "\n",
       "    .dataframe tbody tr th {\n",
       "        vertical-align: top;\n",
       "    }\n",
       "\n",
       "    .dataframe thead th {\n",
       "        text-align: right;\n",
       "    }\n",
       "</style>\n",
       "<table border=\"1\" class=\"dataframe\">\n",
       "  <thead>\n",
       "    <tr style=\"text-align: right;\">\n",
       "      <th></th>\n",
       "      <th>column</th>\n",
       "      <th>value</th>\n",
       "    </tr>\n",
       "  </thead>\n",
       "  <tbody>\n",
       "    <tr>\n",
       "      <th>0</th>\n",
       "      <td>trafficSource.campaignCode</td>\n",
       "      <td>0.999997</td>\n",
       "    </tr>\n",
       "    <tr>\n",
       "      <th>1</th>\n",
       "      <td>trafficSource.adContent</td>\n",
       "      <td>0.988611</td>\n",
       "    </tr>\n",
       "    <tr>\n",
       "      <th>2</th>\n",
       "      <td>totals.transactionRevenue</td>\n",
       "      <td>0.987394</td>\n",
       "    </tr>\n",
       "    <tr>\n",
       "      <th>3</th>\n",
       "      <td>trafficSource.adwordsClickInfo.adNetworkType</td>\n",
       "      <td>0.976909</td>\n",
       "    </tr>\n",
       "    <tr>\n",
       "      <th>4</th>\n",
       "      <td>trafficSource.adwordsClickInfo.isVideoAd</td>\n",
       "      <td>0.976909</td>\n",
       "    </tr>\n",
       "  </tbody>\n",
       "</table>\n",
       "</div>"
      ],
      "text/plain": [
       "                                         column     value\n",
       "0                    trafficSource.campaignCode  0.999997\n",
       "1                       trafficSource.adContent  0.988611\n",
       "2                     totals.transactionRevenue  0.987394\n",
       "3  trafficSource.adwordsClickInfo.adNetworkType  0.976909\n",
       "4      trafficSource.adwordsClickInfo.isVideoAd  0.976909"
      ]
     },
     "execution_count": 248,
     "metadata": {},
     "output_type": "execute_result"
    }
   ],
   "source": [
    "one.head()"
   ]
  },
  {
   "cell_type": "code",
   "execution_count": null,
   "metadata": {
    "collapsed": true
   },
   "outputs": [],
   "source": []
  },
  {
   "cell_type": "code",
   "execution_count": 249,
   "metadata": {},
   "outputs": [
    {
     "name": "stderr",
     "output_type": "stream",
     "text": [
      "C:\\Users\\raghu\\Anaconda3\\lib\\site-packages\\seaborn\\categorical.py:1460: FutureWarning: remove_na is deprecated and is a private function. Do not use.\n",
      "  stat_data = remove_na(group_data)\n"
     ]
    },
    {
     "data": {
      "text/plain": [
       "<matplotlib.axes._subplots.AxesSubplot at 0x295a01b6dd8>"
      ]
     },
     "execution_count": 249,
     "metadata": {},
     "output_type": "execute_result"
    },
    {
     "data": {
      "image/png": "[encoded data removed]",
      "text/plain": [
       "<matplotlib.figure.Figure at 0x295a01b6f98>"
      ]
     },
     "metadata": {},
     "output_type": "display_data"
    }
   ],
   "source": [
    "%matplotlib inline\n",
    "plt.figure(figsize=(10,9))\n",
    "plt.title(\"Percentage of missing values - Sorted \")\n",
    "sns.barplot(x=one.value, y=one.column, palette=\"Blues_d\")"
   ]
  },
  {
   "cell_type": "markdown",
   "metadata": {},
   "source": [
    "By using this graph, we delete the columns with more than 80% of missing values.  \n",
    "We will delete those ones and we will leave the transaction Revenue column because we are yet to analyze the column. \n"
   ]
  },
  {
   "cell_type": "code",
   "execution_count": 29,
   "metadata": {
    "collapsed": true
   },
   "outputs": [],
   "source": [
    "# for f in range(len(one)):\n",
    "#     if one.column[f] == \"totals.transactionRevenue\":\n",
    "#         df1 = df[one.column[f]]\n",
    "#     elif one.value[f] > 0.8:\n",
    "#         del df[one.column[f]]\n",
    "    "
   ]
  },
  {
   "cell_type": "code",
   "execution_count": 250,
   "metadata": {},
   "outputs": [
    {
     "data": {
      "text/plain": [
       "(350000, 55)"
      ]
     },
     "execution_count": 250,
     "metadata": {},
     "output_type": "execute_result"
    }
   ],
   "source": [
    "df.shape"
   ]
  },
  {
   "cell_type": "markdown",
   "metadata": {},
   "source": [
    "As we see now, that the shape of the dataframe is reduced to (350000, 46) as we deleted the values 9 columns with more than 80% NAs. "
   ]
  },
  {
   "cell_type": "code",
   "execution_count": 251,
   "metadata": {},
   "outputs": [
    {
     "name": "stdout",
     "output_type": "stream",
     "text": [
      "Total transactions we have in the dataframe is 4412\n"
     ]
    }
   ],
   "source": [
    "print(\"Total transactions we have in the dataframe is {}\".format(len(df) - sum(df[\"totals.transactionRevenue\"].isnull())))"
   ]
  },
  {
   "cell_type": "markdown",
   "metadata": {
    "scrolled": true
   },
   "source": [
    "### Constant Values"
   ]
  },
  {
   "cell_type": "code",
   "execution_count": 252,
   "metadata": {
    "collapsed": true
   },
   "outputs": [],
   "source": [
    "num_uniques = df.apply(lambda x: len(x.unique()))"
   ]
  },
  {
   "cell_type": "code",
   "execution_count": 253,
   "metadata": {
    "collapsed": true
   },
   "outputs": [],
   "source": [
    "num_unique = num_uniques[num_uniques == 1]"
   ]
  },
  {
   "cell_type": "code",
   "execution_count": 254,
   "metadata": {},
   "outputs": [
    {
     "data": {
      "text/plain": [
       "'socialEngagementType'"
      ]
     },
     "execution_count": 254,
     "metadata": {},
     "output_type": "execute_result"
    }
   ],
   "source": [
    "num_unique.index[0]"
   ]
  },
  {
   "cell_type": "code",
   "execution_count": 255,
   "metadata": {
    "collapsed": true
   },
   "outputs": [],
   "source": [
    "for i in range(len(num_unique)):\n",
    "    f = (num_unique.index[i])\n",
    "    del df[f]"
   ]
  },
  {
   "cell_type": "code",
   "execution_count": 256,
   "metadata": {},
   "outputs": [
    {
     "data": {
      "text/plain": [
       "(350000, 36)"
      ]
     },
     "execution_count": 256,
     "metadata": {},
     "output_type": "execute_result"
    }
   ],
   "source": [
    "df.shape"
   ]
  },
  {
   "cell_type": "markdown",
   "metadata": {},
   "source": [
    "Reduced down to 27 columns"
   ]
  },
  {
   "cell_type": "markdown",
   "metadata": {},
   "source": [
    "### Univariate analysis"
   ]
  },
  {
   "cell_type": "code",
   "execution_count": 215,
   "metadata": {},
   "outputs": [
    {
     "data": {
      "text/plain": [
       "array(['Chrome', 'Firefox', 'UC Browser', 'Internet Explorer', 'Safari',\n",
       "       'Edge', 'Opera Mini', 'Opera', 'BlackBerry', 'Safari (in-app)',\n",
       "       'Coc Coc', 'Mozilla Compatible Agent', 'ADM', 'MRCHROME',\n",
       "       'Amazon Silk', 'YaBrowser', 'Android Webview', 'Puffin',\n",
       "       'Nokia Browser', 'Maxthon', 'Nintendo Browser', 'Android Browser',\n",
       "       'Lunascape', 'IE with Chrome Frame', 'ThumbSniper',\n",
       "       'LYF_LS_4002_12', 'Mozilla', 'osee2unifiedRelease', 'NokiaE52-1',\n",
       "       'Iron', '[Use default User-agent string] LIVRENPOCHE', '(not set)',\n",
       "       'LYF_LS_4002_11', 'M5', 'Android Runtime', 'Apple-iPhone7C2',\n",
       "       'SeaMonkey', 'Konqueror', 'Seznam', 'Changa 99695759', 'no-ua',\n",
       "       'MQQBrowser', 'Nichrome', 'HTC802t_TD'], dtype=object)"
      ]
     },
     "execution_count": 215,
     "metadata": {},
     "output_type": "execute_result"
    }
   ],
   "source": [
    "# (df[\"device.browser\"].unique())"
   ]
  },
  {
   "cell_type": "code",
   "execution_count": null,
   "metadata": {
    "collapsed": true
   },
   "outputs": [],
   "source": []
  },
  {
   "cell_type": "markdown",
   "metadata": {},
   "source": [
    "## Device "
   ]
  },
  {
   "cell_type": "markdown",
   "metadata": {
    "collapsed": true
   },
   "source": [
    "### A function to plot barplots for all the variables "
   ]
  },
  {
   "cell_type": "code",
   "execution_count": 257,
   "metadata": {
    "collapsed": true,
    "scrolled": true
   },
   "outputs": [],
   "source": [
    "def barplot_percentage(feature, num = None, rotation = False):\n",
    "    \n",
    "    # count\n",
    "    data = round(100 * df[feature].value_counts()/len(df) )\n",
    "    # dataframe\n",
    "    data = data.to_frame().reset_index()\n",
    "    # head\n",
    "    data = data.head(num)\n",
    "    # plot \n",
    "    if rotation == True:\n",
    "        xx = sns.barplot(x= data['index'], y = data[feature], palette=\"Blues_r\")\n",
    "        xx.set_xticklabels(labels = data['index'], rotation = 50)\n",
    "        plt.xlabel(\"Browsers\")\n",
    "        plt.ylabel(\"Percentage\")\n",
    "    else:\n",
    "        xx = sns.barplot(y= data['index'],  x= data[feature], palette=\"Blues_r\")\n",
    "        plt.xlabel('Percentage')\n",
    "        plt.ylabel('Browsers')\n",
    "    print(xx)"
   ]
  },
  {
   "cell_type": "code",
   "execution_count": 258,
   "metadata": {
    "scrolled": false
   },
   "outputs": [
    {
     "name": "stdout",
     "output_type": "stream",
     "text": [
      "Axes(0.125,0.125;0.775x0.755)\n"
     ]
    },
    {
     "name": "stderr",
     "output_type": "stream",
     "text": [
      "C:\\Users\\raghu\\Anaconda3\\lib\\site-packages\\seaborn\\categorical.py:1460: FutureWarning: remove_na is deprecated and is a private function. Do not use.\n",
      "  stat_data = remove_na(group_data)\n"
     ]
    },
    {
     "data": {
      "image/png": "[encoded data removed]",
      "text/plain": [
       "<matplotlib.figure.Figure at 0x295a0121160>"
      ]
     },
     "metadata": {},
     "output_type": "display_data"
    }
   ],
   "source": [
    "barplot_percentage(\"device.browser\", 8, rotation=True)"
   ]
  },
  {
   "cell_type": "markdown",
   "metadata": {},
   "source": [
    "### a function for plotting pie charts for categorical variables"
   ]
  },
  {
   "cell_type": "code",
   "execution_count": 259,
   "metadata": {
    "collapsed": true
   },
   "outputs": [],
   "source": [
    "def pie_chart(feature):\n",
    "    \n",
    "    # counts\n",
    "    data = df[feature].value_counts()\n",
    "    \n",
    "    if len(data) <= 8:\n",
    "\n",
    "\n",
    "        #define empty lists \n",
    "        counts = []\n",
    "        labels = []\n",
    "\n",
    "        # iterate through each row to feed values in empty lists\n",
    "        for i in range(len(data)):\n",
    "            counts.append(data[i])\n",
    "            labels.append(data.index[i])\n",
    "\n",
    "        # pie chart\n",
    "        plt.title(\"Pie chart of {}\".format(feature))\n",
    "        plt.pie(x=counts, labels=labels, autopct= \"%1.1f%%\")\n",
    "        plt.figure(figsize = (10,10))\n"
   ]
  },
  {
   "cell_type": "code",
   "execution_count": 214,
   "metadata": {
    "collapsed": true
   },
   "outputs": [],
   "source": [
    "### Device category "
   ]
  },
  {
   "cell_type": "code",
   "execution_count": null,
   "metadata": {
    "collapsed": true
   },
   "outputs": [],
   "source": [
    "df[\"totals.transactionRevenue\"]"
   ]
  },
  {
   "cell_type": "code",
   "execution_count": 213,
   "metadata": {},
   "outputs": [
    {
     "data": {
      "image/png": "[encoded data removed]",
      "text/plain": [
       "<matplotlib.figure.Figure at 0x29483394e10>"
      ]
     },
     "metadata": {},
     "output_type": "display_data"
    },
    {
     "data": {
      "text/plain": [
       "<matplotlib.figure.Figure at 0x29575f367f0>"
      ]
     },
     "metadata": {},
     "output_type": "display_data"
    }
   ],
   "source": [
    "pie_chart(\"device.deviceCategory\")"
   ]
  },
  {
   "cell_type": "markdown",
   "metadata": {},
   "source": [
    "we want to see how much does each device category contribute towards total revenue"
   ]
  },
  {
   "cell_type": "markdown",
   "metadata": {},
   "source": [
    "### a function to see the impact of the feature on the transaction revenue"
   ]
  },
  {
   "cell_type": "code",
   "execution_count": 310,
   "metadata": {
    "collapsed": true
   },
   "outputs": [],
   "source": [
    "def revenue_impact(feature, palette,  sum_values = True ):\n",
    "    \n",
    "    # condition for sum values\n",
    "    temp = df[df[\"totals.transactionRevenue\"].notnull()]\n",
    "    if sum_values :\n",
    "        temp.groupby(by = feature)[\"totals.transactionRevenue\"].sum()\n",
    "    else:\n",
    "        temp.groupby(by = feature)[\"totals.transactionRevenue\"].mean()\n",
    "        \n",
    "    temp = temp.reset_index().sort_values('totals.transactionRevenue', ascending=False)\n",
    "    \n",
    "    temp = temp[temp['totals.transactionRevenue'] > 0]\n",
    "    plt.figure(figsize=(9,9))\n",
    "    plt.title(\"Revenue impact of the {} on transaction revenue\".format(feature))\n",
    "    ax = sns.barplot(y=temp[feature], x= temp['totals.transactionRevenue'], orient='h', palette=palette)"
   ]
  },
  {
   "cell_type": "code",
   "execution_count": 312,
   "metadata": {},
   "outputs": [
    {
     "name": "stderr",
     "output_type": "stream",
     "text": [
      "C:\\Users\\raghu\\Anaconda3\\lib\\site-packages\\seaborn\\categorical.py:1460: FutureWarning: remove_na is deprecated and is a private function. Do not use.\n",
      "  stat_data = remove_na(group_data)\n"
     ]
    },
    {
     "data": {
      "image/png": "[encoded data removed]",
      "text/plain": [
       "<matplotlib.figure.Figure at 0x2959fd73940>"
      ]
     },
     "metadata": {},
     "output_type": "display_data"
    }
   ],
   "source": [
    "revenue_impact(feature='device.deviceCategory', palette=\"Greens_r\", sum_values=False)"
   ]
  },
  {
   "cell_type": "code",
   "execution_count": 317,
   "metadata": {},
   "outputs": [
    {
     "name": "stderr",
     "output_type": "stream",
     "text": [
      "C:\\Users\\raghu\\Anaconda3\\lib\\site-packages\\seaborn\\categorical.py:1460: FutureWarning: remove_na is deprecated and is a private function. Do not use.\n",
      "  stat_data = remove_na(group_data)\n"
     ]
    },
    {
     "data": {
      "image/png": "[encoded data removed]",
      "text/plain": [
       "<matplotlib.figure.Figure at 0x2959faddf98>"
      ]
     },
     "metadata": {},
     "output_type": "display_data"
    }
   ],
   "source": [
    "revenue_impact(feature='device.operatingSystem', palette=\"Greens_r\", sum_values=False)"
   ]
  },
  {
   "cell_type": "code",
   "execution_count": 320,
   "metadata": {},
   "outputs": [
    {
     "name": "stderr",
     "output_type": "stream",
     "text": [
      "C:\\Users\\raghu\\Anaconda3\\lib\\site-packages\\seaborn\\categorical.py:1460: FutureWarning: remove_na is deprecated and is a private function. Do not use.\n",
      "  stat_data = remove_na(group_data)\n"
     ]
    },
    {
     "data": {
      "image/png": "[encoded data removed]",
      "text/plain": [
       "<matplotlib.figure.Figure at 0x2959fb25940>"
      ]
     },
     "metadata": {},
     "output_type": "display_data"
    }
   ],
   "source": [
    "revenue_impact(feature='device.browser', palette=\"Purples_r\", sum_values=False)"
   ]
  },
  {
   "cell_type": "code",
   "execution_count": null,
   "metadata": {
    "collapsed": true
   },
   "outputs": [],
   "source": []
  },
  {
   "cell_type": "code",
   "execution_count": 314,
   "metadata": {
    "scrolled": true
   },
   "outputs": [
    {
     "data": {
      "text/plain": [
       "Index(['channelGrouping', 'date', 'fullVisitorId', 'sessionId', 'visitId',\n",
       "       'visitNumber', 'visitStartTime', 'device.browser',\n",
       "       'device.deviceCategory', 'device.isMobile', 'device.operatingSystem',\n",
       "       'geoNetwork.city', 'geoNetwork.continent', 'geoNetwork.country',\n",
       "       'geoNetwork.metro', 'geoNetwork.networkDomain', 'geoNetwork.region',\n",
       "       'geoNetwork.subContinent', 'totals.bounces', 'totals.hits',\n",
       "       'totals.newVisits', 'totals.pageviews', 'totals.transactionRevenue',\n",
       "       'trafficSource.adContent',\n",
       "       'trafficSource.adwordsClickInfo.adNetworkType',\n",
       "       'trafficSource.adwordsClickInfo.gclId',\n",
       "       'trafficSource.adwordsClickInfo.isVideoAd',\n",
       "       'trafficSource.adwordsClickInfo.page',\n",
       "       'trafficSource.adwordsClickInfo.slot', 'trafficSource.campaign',\n",
       "       'trafficSource.campaignCode', 'trafficSource.isTrueDirect',\n",
       "       'trafficSource.keyword', 'trafficSource.medium',\n",
       "       'trafficSource.referralPath', 'trafficSource.source'],\n",
       "      dtype='object')"
      ]
     },
     "execution_count": 314,
     "metadata": {},
     "output_type": "execute_result"
    }
   ],
   "source": [
    "df.columns"
   ]
  },
  {
   "cell_type": "markdown",
   "metadata": {},
   "source": [
    "### Totals"
   ]
  },
  {
   "cell_type": "code",
   "execution_count": null,
   "metadata": {
    "collapsed": true
   },
   "outputs": [],
   "source": []
  },
  {
   "cell_type": "code",
   "execution_count": 326,
   "metadata": {},
   "outputs": [
    {
     "data": {
      "text/plain": [
       "<matplotlib.axes._subplots.AxesSubplot at 0x2959fb75c88>"
      ]
     },
     "execution_count": 326,
     "metadata": {},
     "output_type": "execute_result"
    },
    {
     "data": {
      "image/png": "[encoded data removed]",
      "text/plain": [
       "<matplotlib.figure.Figure at 0x2959fc69ac8>"
      ]
     },
     "metadata": {},
     "output_type": "display_data"
    }
   ],
   "source": [
    "sns.distplot(a = np.log(new[\"totals.transactionRevenue\"]), kde = True, bins = 100, axlabel= \"Distribution of transaction revenue\")"
   ]
  },
  {
   "cell_type": "code",
   "execution_count": 325,
   "metadata": {},
   "outputs": [
    {
     "data": {
      "text/plain": [
       "752       17.449406\n",
       "753       19.541283\n",
       "799       18.035459\n",
       "802       17.083177\n",
       "859       20.168401\n",
       "866       15.941358\n",
       "893       19.796243\n",
       "910       16.996892\n",
       "922       17.384480\n",
       "925       17.373142\n",
       "930       18.216114\n",
       "942       20.118715\n",
       "971       17.971891\n",
       "974       18.580586\n",
       "976       17.593087\n",
       "999       17.355890\n",
       "1000      17.381940\n",
       "1008      19.641599\n",
       "1020      17.332118\n",
       "1022      20.269923\n",
       "1026      18.452567\n",
       "1027      19.537362\n",
       "1037      15.454507\n",
       "1041      18.324720\n",
       "1054      16.175421\n",
       "1055      17.061223\n",
       "1056      19.641422\n",
       "2774      20.202238\n",
       "3161      17.617495\n",
       "3268      17.229624\n",
       "            ...    \n",
       "348247    18.286806\n",
       "348252    17.370573\n",
       "348253    17.686086\n",
       "348255    17.562187\n",
       "348261    17.549841\n",
       "348262    18.489927\n",
       "348265    18.246089\n",
       "348266    16.759423\n",
       "348271    18.459613\n",
       "348275    19.272540\n",
       "348276    18.252617\n",
       "348279    17.229624\n",
       "348291    14.503645\n",
       "348292    16.010510\n",
       "348295    17.053404\n",
       "348299    16.898338\n",
       "348306    19.546616\n",
       "348307    18.466036\n",
       "348309    17.175191\n",
       "348310    19.024122\n",
       "348807    17.503890\n",
       "348830    17.118360\n",
       "348854    17.329739\n",
       "348879    17.215707\n",
       "348880    17.580888\n",
       "348886    18.663470\n",
       "348914    18.572801\n",
       "348919    17.673500\n",
       "348920    18.197412\n",
       "348922    18.568325\n",
       "Name: totals.transactionRevenue, Length: 4412, dtype: float64"
      ]
     },
     "execution_count": 325,
     "metadata": {},
     "output_type": "execute_result"
    }
   ],
   "source": [
    "np.log(new['totals.transactionRevenue'])"
   ]
  },
  {
   "cell_type": "code",
   "execution_count": null,
   "metadata": {
    "collapsed": true
   },
   "outputs": [],
   "source": []
  },
  {
   "cell_type": "code",
   "execution_count": 328,
   "metadata": {
    "collapsed": true
   },
   "outputs": [],
   "source": [
    "hs = {'name':'Nick'}\n",
    "li = {1 : [1,2,7]}"
   ]
  },
  {
   "cell_type": "code",
   "execution_count": 329,
   "metadata": {
    "collapsed": true
   },
   "outputs": [],
   "source": [
    "list1 = [1, 4,5,6]"
   ]
  },
  {
   "cell_type": "code",
   "execution_count": 330,
   "metadata": {
    "collapsed": true
   },
   "outputs": [],
   "source": [
    "list1.append(88)"
   ]
  },
  {
   "cell_type": "code",
   "execution_count": 332,
   "metadata": {
    "collapsed": true
   },
   "outputs": [],
   "source": [
    "list1.append(hs)"
   ]
  },
  {
   "cell_type": "code",
   "execution_count": 333,
   "metadata": {},
   "outputs": [
    {
     "data": {
      "text/plain": [
       "[1, 4, 5, 6, 88, {'name': 'Nick'}]"
      ]
     },
     "execution_count": 333,
     "metadata": {},
     "output_type": "execute_result"
    }
   ],
   "source": [
    "list1"
   ]
  },
  {
   "cell_type": "code",
   "execution_count": null,
   "metadata": {
    "collapsed": true
   },
   "outputs": [],
   "source": []
  }
 ],
 "metadata": {
  "kernelspec": {
   "display_name": "Python 3",
   "language": "python",
   "name": "python3"
  },
  "language_info": {
   "codemirror_mode": {
    "name": "ipython",
    "version": 3
   },
   "file_extension": ".py",
   "mimetype": "text/x-python",
   "name": "python",
   "nbconvert_exporter": "python",
   "pygments_lexer": "ipython3",
   "version": "3.6.2"
  }
 },
 "nbformat": 4,
 "nbformat_minor": 2
}
