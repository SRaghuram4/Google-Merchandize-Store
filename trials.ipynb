{
 "cells": [
  {
   "cell_type": "markdown",
   "metadata": {},
   "source": [
    "# Exploratory Data Analysis\n"
   ]
  },
  {
   "cell_type": "code",
   "execution_count": 3,
   "metadata": {},
   "outputs": [
    {
     "name": "stdout",
     "output_type": "stream",
     "text": [
      "Collecting ggplot\n",
      "  Using cached https://files.pythonhosted.org/packages/48/04/5c88cc51c6713583f2dc78a5296adb9741505348c323d5875bc976143db2/ggplot-0.11.5-py2.py3-none-any.whl\n",
      "Collecting brewer2mpl (from ggplot)\n",
      "  Using cached https://files.pythonhosted.org/packages/84/57/00c45a199719e617db0875181134fcb3aeef701deae346547ac722eaaf5e/brewer2mpl-1.4.1-py2.py3-none-any.whl\n",
      "Requirement already satisfied: patsy>=0.4 in c:\\users\\raghu\\anaconda3\\lib\\site-packages (from ggplot)\n",
      "Requirement already satisfied: six in c:\\users\\raghu\\anaconda3\\lib\\site-packages (from ggplot)\n",
      "Requirement already satisfied: numpy in c:\\users\\raghu\\anaconda3\\lib\\site-packages (from ggplot)\n",
      "Requirement already satisfied: matplotlib in c:\\users\\raghu\\anaconda3\\lib\\site-packages (from ggplot)\n",
      "Requirement already satisfied: statsmodels in c:\\users\\raghu\\anaconda3\\lib\\site-packages (from ggplot)\n",
      "Requirement already satisfied: scipy in c:\\users\\raghu\\anaconda3\\lib\\site-packages (from ggplot)\n",
      "Requirement already satisfied: pandas in c:\\users\\raghu\\anaconda3\\lib\\site-packages (from ggplot)\n",
      "Requirement already satisfied: cycler in c:\\users\\raghu\\anaconda3\\lib\\site-packages (from ggplot)\n",
      "Requirement already satisfied: python-dateutil in c:\\users\\raghu\\anaconda3\\lib\\site-packages (from matplotlib->ggplot)\n",
      "Requirement already satisfied: pytz in c:\\users\\raghu\\anaconda3\\lib\\site-packages (from matplotlib->ggplot)\n",
      "Requirement already satisfied: pyparsing!=2.0.4,!=2.1.2,!=2.1.6,>=1.5.6 in c:\\users\\raghu\\anaconda3\\lib\\site-packages (from matplotlib->ggplot)\n",
      "Installing collected packages: brewer2mpl, ggplot\n",
      "Successfully installed brewer2mpl-1.4.1 ggplot-0.11.5\n"
     ]
    },
    {
     "name": "stderr",
     "output_type": "stream",
     "text": [
      "You are using pip version 9.0.1, however version 18.0 is available.\n",
      "You should consider upgrading via the 'python -m pip install --upgrade pip' command.\n",
      "C:\\Users\\raghu\\Anaconda3\\lib\\site-packages\\ggplot\\utils.py:81: FutureWarning: pandas.tslib is deprecated and will be removed in a future version.\n",
      "You can access Timestamp as pandas.Timestamp\n",
      "  pd.tslib.Timestamp,\n",
      "C:\\Users\\raghu\\Anaconda3\\lib\\site-packages\\ggplot\\stats\\smoothers.py:4: FutureWarning: The pandas.lib module is deprecated and will be removed in a future version. These are private functions and can be accessed from pandas._libs.lib instead\n",
      "  from pandas.lib import Timestamp\n",
      "C:\\Users\\raghu\\Anaconda3\\lib\\site-packages\\statsmodels\\compat\\pandas.py:56: FutureWarning: The pandas.core.datetools module is deprecated and will be removed in a future version. Please use the pandas.tseries module instead.\n",
      "  from pandas.core import datetools\n"
     ]
    }
   ],
   "source": [
    "import numpy as np\n",
    "import pandas as pd\n",
    "import matplotlib.pyplot as plt\n",
    "!pip install ggplot\n",
    "import ggplot \n",
    "\n",
    "from pandas.lib import Timestamp\n"
   ]
  },
  {
   "cell_type": "markdown",
   "metadata": {},
   "source": [
    "## Import dataset"
   ]
  },
  {
   "cell_type": "code",
   "execution_count": 2,
   "metadata": {
    "collapsed": true
   },
   "outputs": [],
   "source": [
    "# test = pd.read_csv(\"../test.csv\")\n",
    "# sample_sub = pd.read_csv(\"../sample_submission.csv\")"
   ]
  },
  {
   "cell_type": "markdown",
   "metadata": {},
   "source": [
    "## Check Ins and Outs of data "
   ]
  },
  {
   "cell_type": "code",
   "execution_count": null,
   "metadata": {
    "collapsed": true
   },
   "outputs": [],
   "source": [
    "train.head()"
   ]
  },
  {
   "cell_type": "code",
   "execution_count": 53,
   "metadata": {
    "collapsed": true
   },
   "outputs": [],
   "source": [
    "cols = [\n",
    "        \"device\",\n",
    "        \"geoNetwork\",\n",
    "        \"totals\",\n",
    "        \"trafficSource\"\n",
    "       ]"
   ]
  },
  {
   "cell_type": "code",
   "execution_count": 54,
   "metadata": {},
   "outputs": [
    {
     "name": "stderr",
     "output_type": "stream",
     "text": [
      "C:\\Users\\raghu\\Anaconda3\\lib\\site-packages\\IPython\\core\\interactiveshell.py:2698: DtypeWarning: Columns (4) have mixed types. Specify dtype option on import or set low_memory=False.\n",
      "  interactivity=interactivity, compiler=compiler, result=result)\n"
     ]
    }
   ],
   "source": [
    "train = pd.read_csv(\"../new_train1.csv\", converters={column: json.loads for column in cols})\n"
   ]
  },
  {
   "cell_type": "code",
   "execution_count": 56,
   "metadata": {},
   "outputs": [
    {
     "data": {
      "text/plain": [
       "{'city': 'not available in demo dataset',\n",
       " 'cityId': 'not available in demo dataset',\n",
       " 'continent': 'Europe',\n",
       " 'country': 'Austria',\n",
       " 'latitude': 'not available in demo dataset',\n",
       " 'longitude': 'not available in demo dataset',\n",
       " 'metro': 'not available in demo dataset',\n",
       " 'networkDomain': 'spar.at',\n",
       " 'networkLocation': 'not available in demo dataset',\n",
       " 'region': 'not available in demo dataset',\n",
       " 'subContinent': 'Western Europe'}"
      ]
     },
     "execution_count": 56,
     "metadata": {},
     "output_type": "execute_result"
    }
   ],
   "source": [
    "train.geoNetwork[8]"
   ]
  },
  {
   "cell_type": "code",
   "execution_count": null,
   "metadata": {},
   "outputs": [],
   "source": []
  },
  {
   "cell_type": "code",
   "execution_count": 93,
   "metadata": {},
   "outputs": [
    {
     "ename": "NameError",
     "evalue": "name 'new_bd' is not defined",
     "output_type": "error",
     "traceback": [
      "\u001b[1;31m---------------------------------------------------------------------------\u001b[0m",
      "\u001b[1;31mNameError\u001b[0m                                 Traceback (most recent call last)",
      "\u001b[1;32m<ipython-input-93-b3c5f25508c3>\u001b[0m in \u001b[0;36m<module>\u001b[1;34m()\u001b[0m\n\u001b[0;32m      8\u001b[0m \u001b[1;33m\u001b[0m\u001b[0m\n\u001b[0;32m      9\u001b[0m         \u001b[0mnew_df\u001b[0m\u001b[1;33m.\u001b[0m\u001b[0mcolumns\u001b[0m \u001b[1;33m=\u001b[0m \u001b[1;33m[\u001b[0m\u001b[1;34mf\"{column}.{subcolumn}\"\u001b[0m \u001b[1;32mfor\u001b[0m \u001b[0msubcolumn\u001b[0m \u001b[1;32min\u001b[0m \u001b[0mnew_df\u001b[0m\u001b[1;33m.\u001b[0m\u001b[0mcolumns\u001b[0m\u001b[1;33m]\u001b[0m\u001b[1;33m\u001b[0m\u001b[0m\n\u001b[1;32m---> 10\u001b[1;33m         \u001b[0mnew_bd\u001b[0m\u001b[1;33m.\u001b[0m\u001b[0mappend\u001b[0m\u001b[1;33m(\u001b[0m\u001b[0mnew_df\u001b[0m\u001b[1;33m)\u001b[0m\u001b[1;33m\u001b[0m\u001b[0m\n\u001b[0m",
      "\u001b[1;31mNameError\u001b[0m: name 'new_bd' is not defined"
     ]
    }
   ],
   "source": [
    "column = [\"geoNetwork\"]\n",
    "for ab in column:\n",
    "#     print(ab)\n",
    "    for i in train[0:10][ab]:\n",
    "#         print(i)\n",
    "        new_df = (pd.io.json.json_normalize(i)) \n",
    "#         for subcolumn in new_df.columns:\n",
    "\n",
    "        new_df.columns = [f\"{column}.{subcolumn}\" for subcolumn in new_df.columns]\n",
    "        new_bd.append(new_df)"
   ]
  },
  {
   "cell_type": "code",
   "execution_count": 91,
   "metadata": {},
   "outputs": [
    {
     "data": {
      "text/html": [
       "<div>\n",
       "<style>\n",
       "    .dataframe thead tr:only-child th {\n",
       "        text-align: right;\n",
       "    }\n",
       "\n",
       "    .dataframe thead th {\n",
       "        text-align: left;\n",
       "    }\n",
       "\n",
       "    .dataframe tbody tr th {\n",
       "        vertical-align: top;\n",
       "    }\n",
       "</style>\n",
       "<table border=\"1\" class=\"dataframe\">\n",
       "  <thead>\n",
       "    <tr style=\"text-align: right;\">\n",
       "      <th></th>\n",
       "      <th>['geoNetwork'].city</th>\n",
       "      <th>['geoNetwork'].cityId</th>\n",
       "      <th>['geoNetwork'].continent</th>\n",
       "      <th>['geoNetwork'].country</th>\n",
       "      <th>['geoNetwork'].latitude</th>\n",
       "      <th>['geoNetwork'].longitude</th>\n",
       "      <th>['geoNetwork'].metro</th>\n",
       "      <th>['geoNetwork'].networkDomain</th>\n",
       "      <th>['geoNetwork'].networkLocation</th>\n",
       "      <th>['geoNetwork'].region</th>\n",
       "      <th>['geoNetwork'].subContinent</th>\n",
       "    </tr>\n",
       "  </thead>\n",
       "  <tbody>\n",
       "    <tr>\n",
       "      <th>0</th>\n",
       "      <td>not available in demo dataset</td>\n",
       "      <td>not available in demo dataset</td>\n",
       "      <td>Europe</td>\n",
       "      <td>Netherlands</td>\n",
       "      <td>not available in demo dataset</td>\n",
       "      <td>not available in demo dataset</td>\n",
       "      <td>not available in demo dataset</td>\n",
       "      <td>chello.nl</td>\n",
       "      <td>not available in demo dataset</td>\n",
       "      <td>not available in demo dataset</td>\n",
       "      <td>Western Europe</td>\n",
       "    </tr>\n",
       "  </tbody>\n",
       "</table>\n",
       "</div>"
      ],
      "text/plain": [
       "             ['geoNetwork'].city          ['geoNetwork'].cityId  \\\n",
       "0  not available in demo dataset  not available in demo dataset   \n",
       "\n",
       "  ['geoNetwork'].continent ['geoNetwork'].country  \\\n",
       "0                   Europe            Netherlands   \n",
       "\n",
       "         ['geoNetwork'].latitude       ['geoNetwork'].longitude  \\\n",
       "0  not available in demo dataset  not available in demo dataset   \n",
       "\n",
       "            ['geoNetwork'].metro ['geoNetwork'].networkDomain  \\\n",
       "0  not available in demo dataset                    chello.nl   \n",
       "\n",
       "  ['geoNetwork'].networkLocation          ['geoNetwork'].region  \\\n",
       "0  not available in demo dataset  not available in demo dataset   \n",
       "\n",
       "  ['geoNetwork'].subContinent  \n",
       "0              Western Europe  "
      ]
     },
     "execution_count": 91,
     "metadata": {},
     "output_type": "execute_result"
    }
   ],
   "source": [
    "new_df"
   ]
  },
  {
   "cell_type": "code",
   "execution_count": null,
   "metadata": {
    "collapsed": true
   },
   "outputs": [],
   "source": [
    "train_data = train.iloc[:400000]\n"
   ]
  },
  {
   "cell_type": "code",
   "execution_count": null,
   "metadata": {
    "collapsed": true
   },
   "outputs": [],
   "source": [
    "# train_data.describe()"
   ]
  },
  {
   "cell_type": "code",
   "execution_count": null,
   "metadata": {
    "collapsed": true
   },
   "outputs": [],
   "source": [
    "train_data.totals[20]"
   ]
  },
  {
   "cell_type": "code",
   "execution_count": null,
   "metadata": {
    "collapsed": true
   },
   "outputs": [],
   "source": [
    "train_data.geoNetwork[0]"
   ]
  },
  {
   "cell_type": "code",
   "execution_count": null,
   "metadata": {
    "collapsed": true
   },
   "outputs": [],
   "source": [
    "train_data.shape"
   ]
  },
  {
   "cell_type": "code",
   "execution_count": null,
   "metadata": {
    "collapsed": true
   },
   "outputs": [],
   "source": [
    "import json"
   ]
  },
  {
   "cell_type": "code",
   "execution_count": null,
   "metadata": {
    "collapsed": true
   },
   "outputs": [],
   "source": [
    "json.load(train_datageoNetwork)"
   ]
  },
  {
   "cell_type": "markdown",
   "metadata": {},
   "source": [
    "## Read json columns into dataframe\n"
   ]
  },
  {
   "cell_type": "code",
   "execution_count": 4,
   "metadata": {
    "collapsed": true
   },
   "outputs": [],
   "source": [
    "import json\n"
   ]
  },
  {
   "cell_type": "code",
   "execution_count": 164,
   "metadata": {},
   "outputs": [],
   "source": [
    "cols = [\n",
    "        \"device\"\n",
    "#         \"geoNetwork\",\n",
    "#         \"totals\",\n",
    "#         \"trafficSource\"\n",
    "       ]\n",
    "def load_data(csv_path):\n",
    "    \n",
    "    # read the csv file from the given path\n",
    "    df = pd.read_csv(csv_path,\n",
    "                     converters= {column: json.loads for column in cols}, \n",
    "                     dtype={'fullVisitorId': 'str'})\n",
    "    \n",
    "#     print(df.head())\n",
    "    # decode the json and get the columns\n",
    "    column_df = pd.DataFrame()\n",
    "\n",
    "    for column in cols:\n",
    "\n",
    "        for i in range(10):\n",
    "#             print(i)\n",
    "#             json_normalize converts series into dataframe\n",
    "            column_df1 = (pd.io.json.json_normalize(df[column][i]))\n",
    "#             print(column_df1.head())\n",
    "            column_df = column_df.append(column_df1)\n",
    "        \n",
    "            column_df.columns = [f\"{column}_{subcolumn}\" for subcolumn in column_df.columns]\n",
    "    return column_df\n",
    "#         df = df.drop(column, axis=1).merge(column_df, right_index=True, left_index=True)\n",
    "#         print(df.head())\n",
    "#     return df"
   ]
  },
  {
   "cell_type": "code",
   "execution_count": 165,
   "metadata": {
    "scrolled": true
   },
   "outputs": [],
   "source": [
    "df = load_data(\"../new_train1.csv\")\n",
    "# df = df.iloc[:,1:]"
   ]
  },
  {
   "cell_type": "code",
   "execution_count": 166,
   "metadata": {},
   "outputs": [
    {
     "data": {
      "text/html": [
       "<div>\n",
       "<style>\n",
       "    .dataframe thead tr:only-child th {\n",
       "        text-align: right;\n",
       "    }\n",
       "\n",
       "    .dataframe thead th {\n",
       "        text-align: left;\n",
       "    }\n",
       "\n",
       "    .dataframe tbody tr th {\n",
       "        vertical-align: top;\n",
       "    }\n",
       "</style>\n",
       "<table border=\"1\" class=\"dataframe\">\n",
       "  <thead>\n",
       "    <tr style=\"text-align: right;\">\n",
       "      <th></th>\n",
       "      <th>device_browser</th>\n",
       "      <th>device_browserSize</th>\n",
       "      <th>device_browserVersion</th>\n",
       "      <th>device_deviceCategory</th>\n",
       "      <th>device_device_browser</th>\n",
       "      <th>device_device_browserSize</th>\n",
       "      <th>device_device_browserVersion</th>\n",
       "      <th>device_device_deviceCategory</th>\n",
       "      <th>device_device_device_browser</th>\n",
       "      <th>device_device_device_browserSize</th>\n",
       "      <th>...</th>\n",
       "      <th>device_language</th>\n",
       "      <th>device_mobileDeviceBranding</th>\n",
       "      <th>device_mobileDeviceInfo</th>\n",
       "      <th>device_mobileDeviceMarketingName</th>\n",
       "      <th>device_mobileDeviceModel</th>\n",
       "      <th>device_mobileInputSelector</th>\n",
       "      <th>device_operatingSystem</th>\n",
       "      <th>device_operatingSystemVersion</th>\n",
       "      <th>device_screenColors</th>\n",
       "      <th>device_screenResolution</th>\n",
       "    </tr>\n",
       "  </thead>\n",
       "  <tbody>\n",
       "    <tr>\n",
       "      <th>0</th>\n",
       "      <td>NaN</td>\n",
       "      <td>NaN</td>\n",
       "      <td>NaN</td>\n",
       "      <td>NaN</td>\n",
       "      <td>NaN</td>\n",
       "      <td>NaN</td>\n",
       "      <td>NaN</td>\n",
       "      <td>NaN</td>\n",
       "      <td>NaN</td>\n",
       "      <td>NaN</td>\n",
       "      <td>...</td>\n",
       "      <td>NaN</td>\n",
       "      <td>NaN</td>\n",
       "      <td>NaN</td>\n",
       "      <td>NaN</td>\n",
       "      <td>NaN</td>\n",
       "      <td>NaN</td>\n",
       "      <td>NaN</td>\n",
       "      <td>NaN</td>\n",
       "      <td>NaN</td>\n",
       "      <td>NaN</td>\n",
       "    </tr>\n",
       "    <tr>\n",
       "      <th>0</th>\n",
       "      <td>NaN</td>\n",
       "      <td>NaN</td>\n",
       "      <td>NaN</td>\n",
       "      <td>NaN</td>\n",
       "      <td>NaN</td>\n",
       "      <td>NaN</td>\n",
       "      <td>NaN</td>\n",
       "      <td>NaN</td>\n",
       "      <td>NaN</td>\n",
       "      <td>NaN</td>\n",
       "      <td>...</td>\n",
       "      <td>NaN</td>\n",
       "      <td>NaN</td>\n",
       "      <td>NaN</td>\n",
       "      <td>NaN</td>\n",
       "      <td>NaN</td>\n",
       "      <td>NaN</td>\n",
       "      <td>NaN</td>\n",
       "      <td>NaN</td>\n",
       "      <td>NaN</td>\n",
       "      <td>NaN</td>\n",
       "    </tr>\n",
       "    <tr>\n",
       "      <th>0</th>\n",
       "      <td>NaN</td>\n",
       "      <td>NaN</td>\n",
       "      <td>NaN</td>\n",
       "      <td>NaN</td>\n",
       "      <td>NaN</td>\n",
       "      <td>NaN</td>\n",
       "      <td>NaN</td>\n",
       "      <td>NaN</td>\n",
       "      <td>NaN</td>\n",
       "      <td>NaN</td>\n",
       "      <td>...</td>\n",
       "      <td>NaN</td>\n",
       "      <td>NaN</td>\n",
       "      <td>NaN</td>\n",
       "      <td>NaN</td>\n",
       "      <td>NaN</td>\n",
       "      <td>NaN</td>\n",
       "      <td>NaN</td>\n",
       "      <td>NaN</td>\n",
       "      <td>NaN</td>\n",
       "      <td>NaN</td>\n",
       "    </tr>\n",
       "    <tr>\n",
       "      <th>0</th>\n",
       "      <td>NaN</td>\n",
       "      <td>NaN</td>\n",
       "      <td>NaN</td>\n",
       "      <td>NaN</td>\n",
       "      <td>NaN</td>\n",
       "      <td>NaN</td>\n",
       "      <td>NaN</td>\n",
       "      <td>NaN</td>\n",
       "      <td>NaN</td>\n",
       "      <td>NaN</td>\n",
       "      <td>...</td>\n",
       "      <td>NaN</td>\n",
       "      <td>NaN</td>\n",
       "      <td>NaN</td>\n",
       "      <td>NaN</td>\n",
       "      <td>NaN</td>\n",
       "      <td>NaN</td>\n",
       "      <td>NaN</td>\n",
       "      <td>NaN</td>\n",
       "      <td>NaN</td>\n",
       "      <td>NaN</td>\n",
       "    </tr>\n",
       "    <tr>\n",
       "      <th>0</th>\n",
       "      <td>NaN</td>\n",
       "      <td>NaN</td>\n",
       "      <td>NaN</td>\n",
       "      <td>NaN</td>\n",
       "      <td>NaN</td>\n",
       "      <td>NaN</td>\n",
       "      <td>NaN</td>\n",
       "      <td>NaN</td>\n",
       "      <td>NaN</td>\n",
       "      <td>NaN</td>\n",
       "      <td>...</td>\n",
       "      <td>NaN</td>\n",
       "      <td>NaN</td>\n",
       "      <td>NaN</td>\n",
       "      <td>NaN</td>\n",
       "      <td>NaN</td>\n",
       "      <td>NaN</td>\n",
       "      <td>NaN</td>\n",
       "      <td>NaN</td>\n",
       "      <td>NaN</td>\n",
       "      <td>NaN</td>\n",
       "    </tr>\n",
       "  </tbody>\n",
       "</table>\n",
       "<p>5 rows × 160 columns</p>\n",
       "</div>"
      ],
      "text/plain": [
       "  device_browser device_browserSize device_browserVersion  \\\n",
       "0            NaN                NaN                   NaN   \n",
       "0            NaN                NaN                   NaN   \n",
       "0            NaN                NaN                   NaN   \n",
       "0            NaN                NaN                   NaN   \n",
       "0            NaN                NaN                   NaN   \n",
       "\n",
       "  device_deviceCategory device_device_browser device_device_browserSize  \\\n",
       "0                   NaN                   NaN                       NaN   \n",
       "0                   NaN                   NaN                       NaN   \n",
       "0                   NaN                   NaN                       NaN   \n",
       "0                   NaN                   NaN                       NaN   \n",
       "0                   NaN                   NaN                       NaN   \n",
       "\n",
       "  device_device_browserVersion device_device_deviceCategory  \\\n",
       "0                          NaN                          NaN   \n",
       "0                          NaN                          NaN   \n",
       "0                          NaN                          NaN   \n",
       "0                          NaN                          NaN   \n",
       "0                          NaN                          NaN   \n",
       "\n",
       "  device_device_device_browser device_device_device_browserSize  \\\n",
       "0                          NaN                              NaN   \n",
       "0                          NaN                              NaN   \n",
       "0                          NaN                              NaN   \n",
       "0                          NaN                              NaN   \n",
       "0                          NaN                              NaN   \n",
       "\n",
       "            ...           device_language device_mobileDeviceBranding  \\\n",
       "0           ...                       NaN                         NaN   \n",
       "0           ...                       NaN                         NaN   \n",
       "0           ...                       NaN                         NaN   \n",
       "0           ...                       NaN                         NaN   \n",
       "0           ...                       NaN                         NaN   \n",
       "\n",
       "  device_mobileDeviceInfo device_mobileDeviceMarketingName  \\\n",
       "0                     NaN                              NaN   \n",
       "0                     NaN                              NaN   \n",
       "0                     NaN                              NaN   \n",
       "0                     NaN                              NaN   \n",
       "0                     NaN                              NaN   \n",
       "\n",
       "  device_mobileDeviceModel device_mobileInputSelector device_operatingSystem  \\\n",
       "0                      NaN                        NaN                    NaN   \n",
       "0                      NaN                        NaN                    NaN   \n",
       "0                      NaN                        NaN                    NaN   \n",
       "0                      NaN                        NaN                    NaN   \n",
       "0                      NaN                        NaN                    NaN   \n",
       "\n",
       "  device_operatingSystemVersion device_screenColors device_screenResolution  \n",
       "0                           NaN                 NaN                     NaN  \n",
       "0                           NaN                 NaN                     NaN  \n",
       "0                           NaN                 NaN                     NaN  \n",
       "0                           NaN                 NaN                     NaN  \n",
       "0                           NaN                 NaN                     NaN  \n",
       "\n",
       "[5 rows x 160 columns]"
      ]
     },
     "execution_count": 166,
     "metadata": {},
     "output_type": "execute_result"
    }
   ],
   "source": [
    "df.head()"
   ]
  },
  {
   "cell_type": "code",
   "execution_count": 118,
   "metadata": {},
   "outputs": [
    {
     "name": "stdout",
     "output_type": "stream",
     "text": [
      "continent\n",
      "subContinent\n",
      "country\n",
      "region\n",
      "metro\n",
      "city\n",
      "cityId\n",
      "networkDomain\n",
      "latitude\n",
      "longitude\n",
      "networkLocation\n"
     ]
    }
   ],
   "source": [
    "# pd.io.json.json_normalize\n",
    "for x in (train[\"geoNetwork\"][0].keys()):\n",
    "    print(x)"
   ]
  },
  {
   "cell_type": "code",
   "execution_count": 16,
   "metadata": {
    "scrolled": true
   },
   "outputs": [
    {
     "ename": "TypeError",
     "evalue": "Index(...) must be called with a collection of some kind, 'geoNetwork.geoNetwork' was passed",
     "output_type": "error",
     "traceback": [
      "\u001b[1;31m---------------------------------------------------------------------------\u001b[0m",
      "\u001b[1;31mTypeError\u001b[0m                                 Traceback (most recent call last)",
      "\u001b[1;32m<ipython-input-16-b491113ced8c>\u001b[0m in \u001b[0;36m<module>\u001b[1;34m()\u001b[0m\n\u001b[0;32m      8\u001b[0m     \u001b[0mnew_df\u001b[0m \u001b[1;33m=\u001b[0m \u001b[0mpd\u001b[0m\u001b[1;33m.\u001b[0m\u001b[0mio\u001b[0m\u001b[1;33m.\u001b[0m\u001b[0mjson\u001b[0m\u001b[1;33m.\u001b[0m\u001b[0mjson_normalize\u001b[0m\u001b[1;33m(\u001b[0m\u001b[0mdf\u001b[0m\u001b[1;33m[\u001b[0m\u001b[0mcolumn\u001b[0m\u001b[1;33m]\u001b[0m\u001b[1;33m)\u001b[0m\u001b[1;33m\u001b[0m\u001b[0m\n\u001b[0;32m      9\u001b[0m     \u001b[1;32mfor\u001b[0m \u001b[0msubcolumn\u001b[0m \u001b[1;32min\u001b[0m \u001b[0mnew_df\u001b[0m\u001b[1;33m.\u001b[0m\u001b[0mcolumns\u001b[0m\u001b[1;33m:\u001b[0m\u001b[1;33m\u001b[0m\u001b[0m\n\u001b[1;32m---> 10\u001b[1;33m          \u001b[0mnew_df\u001b[0m\u001b[1;33m.\u001b[0m\u001b[0mcolumns\u001b[0m \u001b[1;33m=\u001b[0m \u001b[1;34mf\"{column}.{subcolumn}\"\u001b[0m\u001b[1;33m\u001b[0m\u001b[0m\n\u001b[0m",
      "\u001b[1;32m~\\Anaconda3\\lib\\site-packages\\pandas\\core\\generic.py\u001b[0m in \u001b[0;36m__setattr__\u001b[1;34m(self, name, value)\u001b[0m\n\u001b[0;32m   3092\u001b[0m         \u001b[1;32mtry\u001b[0m\u001b[1;33m:\u001b[0m\u001b[1;33m\u001b[0m\u001b[0m\n\u001b[0;32m   3093\u001b[0m             \u001b[0mobject\u001b[0m\u001b[1;33m.\u001b[0m\u001b[0m__getattribute__\u001b[0m\u001b[1;33m(\u001b[0m\u001b[0mself\u001b[0m\u001b[1;33m,\u001b[0m \u001b[0mname\u001b[0m\u001b[1;33m)\u001b[0m\u001b[1;33m\u001b[0m\u001b[0m\n\u001b[1;32m-> 3094\u001b[1;33m             \u001b[1;32mreturn\u001b[0m \u001b[0mobject\u001b[0m\u001b[1;33m.\u001b[0m\u001b[0m__setattr__\u001b[0m\u001b[1;33m(\u001b[0m\u001b[0mself\u001b[0m\u001b[1;33m,\u001b[0m \u001b[0mname\u001b[0m\u001b[1;33m,\u001b[0m \u001b[0mvalue\u001b[0m\u001b[1;33m)\u001b[0m\u001b[1;33m\u001b[0m\u001b[0m\n\u001b[0m\u001b[0;32m   3095\u001b[0m         \u001b[1;32mexcept\u001b[0m \u001b[0mAttributeError\u001b[0m\u001b[1;33m:\u001b[0m\u001b[1;33m\u001b[0m\u001b[0m\n\u001b[0;32m   3096\u001b[0m             \u001b[1;32mpass\u001b[0m\u001b[1;33m\u001b[0m\u001b[0m\n",
      "\u001b[1;32mpandas/_libs/src\\properties.pyx\u001b[0m in \u001b[0;36mpandas._libs.lib.AxisProperty.__set__\u001b[1;34m()\u001b[0m\n",
      "\u001b[1;32m~\\Anaconda3\\lib\\site-packages\\pandas\\core\\generic.py\u001b[0m in \u001b[0;36m_set_axis\u001b[1;34m(self, axis, labels)\u001b[0m\n\u001b[0;32m    471\u001b[0m \u001b[1;33m\u001b[0m\u001b[0m\n\u001b[0;32m    472\u001b[0m     \u001b[1;32mdef\u001b[0m \u001b[0m_set_axis\u001b[0m\u001b[1;33m(\u001b[0m\u001b[0mself\u001b[0m\u001b[1;33m,\u001b[0m \u001b[0maxis\u001b[0m\u001b[1;33m,\u001b[0m \u001b[0mlabels\u001b[0m\u001b[1;33m)\u001b[0m\u001b[1;33m:\u001b[0m\u001b[1;33m\u001b[0m\u001b[0m\n\u001b[1;32m--> 473\u001b[1;33m         \u001b[0mself\u001b[0m\u001b[1;33m.\u001b[0m\u001b[0m_data\u001b[0m\u001b[1;33m.\u001b[0m\u001b[0mset_axis\u001b[0m\u001b[1;33m(\u001b[0m\u001b[0maxis\u001b[0m\u001b[1;33m,\u001b[0m \u001b[0mlabels\u001b[0m\u001b[1;33m)\u001b[0m\u001b[1;33m\u001b[0m\u001b[0m\n\u001b[0m\u001b[0;32m    474\u001b[0m         \u001b[0mself\u001b[0m\u001b[1;33m.\u001b[0m\u001b[0m_clear_item_cache\u001b[0m\u001b[1;33m(\u001b[0m\u001b[1;33m)\u001b[0m\u001b[1;33m\u001b[0m\u001b[0m\n\u001b[0;32m    475\u001b[0m \u001b[1;33m\u001b[0m\u001b[0m\n",
      "\u001b[1;32m~\\Anaconda3\\lib\\site-packages\\pandas\\core\\internals.py\u001b[0m in \u001b[0;36mset_axis\u001b[1;34m(self, axis, new_labels)\u001b[0m\n\u001b[0;32m   2827\u001b[0m \u001b[1;33m\u001b[0m\u001b[0m\n\u001b[0;32m   2828\u001b[0m     \u001b[1;32mdef\u001b[0m \u001b[0mset_axis\u001b[0m\u001b[1;33m(\u001b[0m\u001b[0mself\u001b[0m\u001b[1;33m,\u001b[0m \u001b[0maxis\u001b[0m\u001b[1;33m,\u001b[0m \u001b[0mnew_labels\u001b[0m\u001b[1;33m)\u001b[0m\u001b[1;33m:\u001b[0m\u001b[1;33m\u001b[0m\u001b[0m\n\u001b[1;32m-> 2829\u001b[1;33m         \u001b[0mnew_labels\u001b[0m \u001b[1;33m=\u001b[0m \u001b[0m_ensure_index\u001b[0m\u001b[1;33m(\u001b[0m\u001b[0mnew_labels\u001b[0m\u001b[1;33m)\u001b[0m\u001b[1;33m\u001b[0m\u001b[0m\n\u001b[0m\u001b[0;32m   2830\u001b[0m         \u001b[0mold_len\u001b[0m \u001b[1;33m=\u001b[0m \u001b[0mlen\u001b[0m\u001b[1;33m(\u001b[0m\u001b[0mself\u001b[0m\u001b[1;33m.\u001b[0m\u001b[0maxes\u001b[0m\u001b[1;33m[\u001b[0m\u001b[0maxis\u001b[0m\u001b[1;33m]\u001b[0m\u001b[1;33m)\u001b[0m\u001b[1;33m\u001b[0m\u001b[0m\n\u001b[0;32m   2831\u001b[0m         \u001b[0mnew_len\u001b[0m \u001b[1;33m=\u001b[0m \u001b[0mlen\u001b[0m\u001b[1;33m(\u001b[0m\u001b[0mnew_labels\u001b[0m\u001b[1;33m)\u001b[0m\u001b[1;33m\u001b[0m\u001b[0m\n",
      "\u001b[1;32m~\\Anaconda3\\lib\\site-packages\\pandas\\core\\indexes\\base.py\u001b[0m in \u001b[0;36m_ensure_index\u001b[1;34m(index_like, copy)\u001b[0m\n\u001b[0;32m   4025\u001b[0m             \u001b[0mindex_like\u001b[0m \u001b[1;33m=\u001b[0m \u001b[0mcopy\u001b[0m\u001b[1;33m(\u001b[0m\u001b[0mindex_like\u001b[0m\u001b[1;33m)\u001b[0m\u001b[1;33m\u001b[0m\u001b[0m\n\u001b[0;32m   4026\u001b[0m \u001b[1;33m\u001b[0m\u001b[0m\n\u001b[1;32m-> 4027\u001b[1;33m     \u001b[1;32mreturn\u001b[0m \u001b[0mIndex\u001b[0m\u001b[1;33m(\u001b[0m\u001b[0mindex_like\u001b[0m\u001b[1;33m)\u001b[0m\u001b[1;33m\u001b[0m\u001b[0m\n\u001b[0m\u001b[0;32m   4028\u001b[0m \u001b[1;33m\u001b[0m\u001b[0m\n\u001b[0;32m   4029\u001b[0m \u001b[1;33m\u001b[0m\u001b[0m\n",
      "\u001b[1;32m~\\Anaconda3\\lib\\site-packages\\pandas\\core\\indexes\\base.py\u001b[0m in \u001b[0;36m__new__\u001b[1;34m(cls, data, dtype, copy, name, fastpath, tupleize_cols, **kwargs)\u001b[0m\n\u001b[0;32m    324\u001b[0m                          **kwargs)\n\u001b[0;32m    325\u001b[0m         \u001b[1;32melif\u001b[0m \u001b[0mdata\u001b[0m \u001b[1;32mis\u001b[0m \u001b[1;32mNone\u001b[0m \u001b[1;32mor\u001b[0m \u001b[0mis_scalar\u001b[0m\u001b[1;33m(\u001b[0m\u001b[0mdata\u001b[0m\u001b[1;33m)\u001b[0m\u001b[1;33m:\u001b[0m\u001b[1;33m\u001b[0m\u001b[0m\n\u001b[1;32m--> 326\u001b[1;33m             \u001b[0mcls\u001b[0m\u001b[1;33m.\u001b[0m\u001b[0m_scalar_data_error\u001b[0m\u001b[1;33m(\u001b[0m\u001b[0mdata\u001b[0m\u001b[1;33m)\u001b[0m\u001b[1;33m\u001b[0m\u001b[0m\n\u001b[0m\u001b[0;32m    327\u001b[0m         \u001b[1;32melse\u001b[0m\u001b[1;33m:\u001b[0m\u001b[1;33m\u001b[0m\u001b[0m\n\u001b[0;32m    328\u001b[0m             if (tupleize_cols and isinstance(data, list) and data and\n",
      "\u001b[1;32m~\\Anaconda3\\lib\\site-packages\\pandas\\core\\indexes\\base.py\u001b[0m in \u001b[0;36m_scalar_data_error\u001b[1;34m(cls, data)\u001b[0m\n\u001b[0;32m    676\u001b[0m         raise TypeError('{0}(...) must be called with a collection of some '\n\u001b[0;32m    677\u001b[0m                         'kind, {1} was passed'.format(cls.__name__,\n\u001b[1;32m--> 678\u001b[1;33m                                                       repr(data)))\n\u001b[0m\u001b[0;32m    679\u001b[0m \u001b[1;33m\u001b[0m\u001b[0m\n\u001b[0;32m    680\u001b[0m     \u001b[1;33m@\u001b[0m\u001b[0mclassmethod\u001b[0m\u001b[1;33m\u001b[0m\u001b[0m\n",
      "\u001b[1;31mTypeError\u001b[0m: Index(...) must be called with a collection of some kind, 'geoNetwork.geoNetwork' was passed"
     ]
    }
   ],
   "source": [
    "cols = [\n",
    "#         \"device\",\n",
    "        \"geoNetwork\",\n",
    "#         \"totals\",\n",
    "#         \"trafficSource\"\n",
    "       ]\n",
    "for column in cols:\n",
    "    new_df = pd.io.json.json_normalize(df[column])\n",
    "    new_df.columns = [f\"{column}.{subcolumn}\" for subcolumn in new_df.columns]\n"
   ]
  },
  {
   "cell_type": "code",
   "execution_count": 15,
   "metadata": {},
   "outputs": [
    {
     "data": {
      "text/html": [
       "<div>\n",
       "<style>\n",
       "    .dataframe thead tr:only-child th {\n",
       "        text-align: right;\n",
       "    }\n",
       "\n",
       "    .dataframe thead th {\n",
       "        text-align: left;\n",
       "    }\n",
       "\n",
       "    .dataframe tbody tr th {\n",
       "        vertical-align: top;\n",
       "    }\n",
       "</style>\n",
       "<table border=\"1\" class=\"dataframe\">\n",
       "  <thead>\n",
       "    <tr style=\"text-align: right;\">\n",
       "      <th></th>\n",
       "      <th>geoNetwork</th>\n",
       "    </tr>\n",
       "  </thead>\n",
       "  <tbody>\n",
       "    <tr>\n",
       "      <th>0</th>\n",
       "      <td>{'continent': 'Asia', 'subContinent': 'Western...</td>\n",
       "    </tr>\n",
       "    <tr>\n",
       "      <th>1</th>\n",
       "      <td>{'continent': 'Oceania', 'subContinent': 'Aust...</td>\n",
       "    </tr>\n",
       "    <tr>\n",
       "      <th>2</th>\n",
       "      <td>{'continent': 'Europe', 'subContinent': 'South...</td>\n",
       "    </tr>\n",
       "    <tr>\n",
       "      <th>3</th>\n",
       "      <td>{'continent': 'Asia', 'subContinent': 'Southea...</td>\n",
       "    </tr>\n",
       "    <tr>\n",
       "      <th>4</th>\n",
       "      <td>{'continent': 'Europe', 'subContinent': 'North...</td>\n",
       "    </tr>\n",
       "    <tr>\n",
       "      <th>5</th>\n",
       "      <td>{'continent': 'Europe', 'subContinent': 'South...</td>\n",
       "    </tr>\n",
       "    <tr>\n",
       "      <th>6</th>\n",
       "      <td>{'continent': 'Asia', 'subContinent': 'Souther...</td>\n",
       "    </tr>\n",
       "    <tr>\n",
       "      <th>7</th>\n",
       "      <td>{'continent': 'Oceania', 'subContinent': 'Aust...</td>\n",
       "    </tr>\n",
       "    <tr>\n",
       "      <th>8</th>\n",
       "      <td>{'continent': 'Europe', 'subContinent': 'Weste...</td>\n",
       "    </tr>\n",
       "    <tr>\n",
       "      <th>9</th>\n",
       "      <td>{'continent': 'Europe', 'subContinent': 'Weste...</td>\n",
       "    </tr>\n",
       "    <tr>\n",
       "      <th>10</th>\n",
       "      <td>{'continent': 'Asia', 'subContinent': 'Souther...</td>\n",
       "    </tr>\n",
       "    <tr>\n",
       "      <th>11</th>\n",
       "      <td>{'continent': 'Europe', 'subContinent': 'Weste...</td>\n",
       "    </tr>\n",
       "    <tr>\n",
       "      <th>12</th>\n",
       "      <td>{'continent': 'Asia', 'subContinent': 'Western...</td>\n",
       "    </tr>\n",
       "    <tr>\n",
       "      <th>13</th>\n",
       "      <td>{'continent': 'Asia', 'subContinent': 'Souther...</td>\n",
       "    </tr>\n",
       "    <tr>\n",
       "      <th>14</th>\n",
       "      <td>{'continent': 'Americas', 'subContinent': 'Sou...</td>\n",
       "    </tr>\n",
       "    <tr>\n",
       "      <th>15</th>\n",
       "      <td>{'continent': 'Asia', 'subContinent': 'Eastern...</td>\n",
       "    </tr>\n",
       "    <tr>\n",
       "      <th>16</th>\n",
       "      <td>{'continent': 'Europe', 'subContinent': 'Weste...</td>\n",
       "    </tr>\n",
       "    <tr>\n",
       "      <th>17</th>\n",
       "      <td>{'continent': 'Europe', 'subContinent': 'Weste...</td>\n",
       "    </tr>\n",
       "    <tr>\n",
       "      <th>18</th>\n",
       "      <td>{'continent': 'Asia', 'subContinent': 'Southea...</td>\n",
       "    </tr>\n",
       "    <tr>\n",
       "      <th>19</th>\n",
       "      <td>{'continent': 'Americas', 'subContinent': 'Sou...</td>\n",
       "    </tr>\n",
       "    <tr>\n",
       "      <th>20</th>\n",
       "      <td>{'continent': 'Europe', 'subContinent': 'Easte...</td>\n",
       "    </tr>\n",
       "    <tr>\n",
       "      <th>21</th>\n",
       "      <td>{'continent': 'Europe', 'subContinent': 'Weste...</td>\n",
       "    </tr>\n",
       "    <tr>\n",
       "      <th>22</th>\n",
       "      <td>{'continent': 'Americas', 'subContinent': 'Nor...</td>\n",
       "    </tr>\n",
       "    <tr>\n",
       "      <th>23</th>\n",
       "      <td>{'continent': 'Asia', 'subContinent': 'Southea...</td>\n",
       "    </tr>\n",
       "    <tr>\n",
       "      <th>24</th>\n",
       "      <td>{'continent': 'Asia', 'subContinent': 'Southea...</td>\n",
       "    </tr>\n",
       "    <tr>\n",
       "      <th>25</th>\n",
       "      <td>{'continent': 'Europe', 'subContinent': 'Weste...</td>\n",
       "    </tr>\n",
       "    <tr>\n",
       "      <th>26</th>\n",
       "      <td>{'continent': 'Europe', 'subContinent': 'Weste...</td>\n",
       "    </tr>\n",
       "    <tr>\n",
       "      <th>27</th>\n",
       "      <td>{'continent': 'Europe', 'subContinent': 'Easte...</td>\n",
       "    </tr>\n",
       "    <tr>\n",
       "      <th>28</th>\n",
       "      <td>{'continent': 'Asia', 'subContinent': 'Souther...</td>\n",
       "    </tr>\n",
       "    <tr>\n",
       "      <th>29</th>\n",
       "      <td>{'continent': 'Asia', 'subContinent': 'Southea...</td>\n",
       "    </tr>\n",
       "    <tr>\n",
       "      <th>...</th>\n",
       "      <td>...</td>\n",
       "    </tr>\n",
       "    <tr>\n",
       "      <th>199970</th>\n",
       "      <td>{'continent': 'Americas', 'subContinent': 'Nor...</td>\n",
       "    </tr>\n",
       "    <tr>\n",
       "      <th>199971</th>\n",
       "      <td>{'continent': 'Europe', 'subContinent': 'North...</td>\n",
       "    </tr>\n",
       "    <tr>\n",
       "      <th>199972</th>\n",
       "      <td>{'continent': 'Europe', 'subContinent': 'South...</td>\n",
       "    </tr>\n",
       "    <tr>\n",
       "      <th>199973</th>\n",
       "      <td>{'continent': 'Asia', 'subContinent': 'Southea...</td>\n",
       "    </tr>\n",
       "    <tr>\n",
       "      <th>199974</th>\n",
       "      <td>{'continent': 'Americas', 'subContinent': 'Nor...</td>\n",
       "    </tr>\n",
       "    <tr>\n",
       "      <th>199975</th>\n",
       "      <td>{'continent': 'Europe', 'subContinent': 'Weste...</td>\n",
       "    </tr>\n",
       "    <tr>\n",
       "      <th>199976</th>\n",
       "      <td>{'continent': 'Europe', 'subContinent': 'Weste...</td>\n",
       "    </tr>\n",
       "    <tr>\n",
       "      <th>199977</th>\n",
       "      <td>{'continent': 'Europe', 'subContinent': 'North...</td>\n",
       "    </tr>\n",
       "    <tr>\n",
       "      <th>199978</th>\n",
       "      <td>{'continent': 'Americas', 'subContinent': 'Nor...</td>\n",
       "    </tr>\n",
       "    <tr>\n",
       "      <th>199979</th>\n",
       "      <td>{'continent': 'Asia', 'subContinent': 'Southea...</td>\n",
       "    </tr>\n",
       "    <tr>\n",
       "      <th>199980</th>\n",
       "      <td>{'continent': 'Europe', 'subContinent': 'Weste...</td>\n",
       "    </tr>\n",
       "    <tr>\n",
       "      <th>199981</th>\n",
       "      <td>{'continent': 'Oceania', 'subContinent': 'Aust...</td>\n",
       "    </tr>\n",
       "    <tr>\n",
       "      <th>199982</th>\n",
       "      <td>{'continent': 'Europe', 'subContinent': 'Weste...</td>\n",
       "    </tr>\n",
       "    <tr>\n",
       "      <th>199983</th>\n",
       "      <td>{'continent': 'Oceania', 'subContinent': 'Aust...</td>\n",
       "    </tr>\n",
       "    <tr>\n",
       "      <th>199984</th>\n",
       "      <td>{'continent': 'Oceania', 'subContinent': 'Aust...</td>\n",
       "    </tr>\n",
       "    <tr>\n",
       "      <th>199985</th>\n",
       "      <td>{'continent': 'Europe', 'subContinent': 'Weste...</td>\n",
       "    </tr>\n",
       "    <tr>\n",
       "      <th>199986</th>\n",
       "      <td>{'continent': 'Europe', 'subContinent': 'Weste...</td>\n",
       "    </tr>\n",
       "    <tr>\n",
       "      <th>199987</th>\n",
       "      <td>{'continent': 'Europe', 'subContinent': 'North...</td>\n",
       "    </tr>\n",
       "    <tr>\n",
       "      <th>199988</th>\n",
       "      <td>{'continent': 'Asia', 'subContinent': 'Southea...</td>\n",
       "    </tr>\n",
       "    <tr>\n",
       "      <th>199989</th>\n",
       "      <td>{'continent': 'Americas', 'subContinent': 'Nor...</td>\n",
       "    </tr>\n",
       "    <tr>\n",
       "      <th>199990</th>\n",
       "      <td>{'continent': 'Europe', 'subContinent': 'South...</td>\n",
       "    </tr>\n",
       "    <tr>\n",
       "      <th>199991</th>\n",
       "      <td>{'continent': 'Oceania', 'subContinent': 'Aust...</td>\n",
       "    </tr>\n",
       "    <tr>\n",
       "      <th>199992</th>\n",
       "      <td>{'continent': 'Europe', 'subContinent': 'South...</td>\n",
       "    </tr>\n",
       "    <tr>\n",
       "      <th>199993</th>\n",
       "      <td>{'continent': 'Americas', 'subContinent': 'Nor...</td>\n",
       "    </tr>\n",
       "    <tr>\n",
       "      <th>199994</th>\n",
       "      <td>{'continent': 'Europe', 'subContinent': 'North...</td>\n",
       "    </tr>\n",
       "    <tr>\n",
       "      <th>199995</th>\n",
       "      <td>{'continent': 'Asia', 'subContinent': 'Souther...</td>\n",
       "    </tr>\n",
       "    <tr>\n",
       "      <th>199996</th>\n",
       "      <td>{'continent': 'Asia', 'subContinent': 'Souther...</td>\n",
       "    </tr>\n",
       "    <tr>\n",
       "      <th>199997</th>\n",
       "      <td>{'continent': 'Oceania', 'subContinent': 'Aust...</td>\n",
       "    </tr>\n",
       "    <tr>\n",
       "      <th>199998</th>\n",
       "      <td>{'continent': 'Americas', 'subContinent': 'Nor...</td>\n",
       "    </tr>\n",
       "    <tr>\n",
       "      <th>199999</th>\n",
       "      <td>{'continent': 'Asia', 'subContinent': 'Eastern...</td>\n",
       "    </tr>\n",
       "  </tbody>\n",
       "</table>\n",
       "<p>200000 rows × 1 columns</p>\n",
       "</div>"
      ],
      "text/plain": [
       "                                               geoNetwork\n",
       "0       {'continent': 'Asia', 'subContinent': 'Western...\n",
       "1       {'continent': 'Oceania', 'subContinent': 'Aust...\n",
       "2       {'continent': 'Europe', 'subContinent': 'South...\n",
       "3       {'continent': 'Asia', 'subContinent': 'Southea...\n",
       "4       {'continent': 'Europe', 'subContinent': 'North...\n",
       "5       {'continent': 'Europe', 'subContinent': 'South...\n",
       "6       {'continent': 'Asia', 'subContinent': 'Souther...\n",
       "7       {'continent': 'Oceania', 'subContinent': 'Aust...\n",
       "8       {'continent': 'Europe', 'subContinent': 'Weste...\n",
       "9       {'continent': 'Europe', 'subContinent': 'Weste...\n",
       "10      {'continent': 'Asia', 'subContinent': 'Souther...\n",
       "11      {'continent': 'Europe', 'subContinent': 'Weste...\n",
       "12      {'continent': 'Asia', 'subContinent': 'Western...\n",
       "13      {'continent': 'Asia', 'subContinent': 'Souther...\n",
       "14      {'continent': 'Americas', 'subContinent': 'Sou...\n",
       "15      {'continent': 'Asia', 'subContinent': 'Eastern...\n",
       "16      {'continent': 'Europe', 'subContinent': 'Weste...\n",
       "17      {'continent': 'Europe', 'subContinent': 'Weste...\n",
       "18      {'continent': 'Asia', 'subContinent': 'Southea...\n",
       "19      {'continent': 'Americas', 'subContinent': 'Sou...\n",
       "20      {'continent': 'Europe', 'subContinent': 'Easte...\n",
       "21      {'continent': 'Europe', 'subContinent': 'Weste...\n",
       "22      {'continent': 'Americas', 'subContinent': 'Nor...\n",
       "23      {'continent': 'Asia', 'subContinent': 'Southea...\n",
       "24      {'continent': 'Asia', 'subContinent': 'Southea...\n",
       "25      {'continent': 'Europe', 'subContinent': 'Weste...\n",
       "26      {'continent': 'Europe', 'subContinent': 'Weste...\n",
       "27      {'continent': 'Europe', 'subContinent': 'Easte...\n",
       "28      {'continent': 'Asia', 'subContinent': 'Souther...\n",
       "29      {'continent': 'Asia', 'subContinent': 'Southea...\n",
       "...                                                   ...\n",
       "199970  {'continent': 'Americas', 'subContinent': 'Nor...\n",
       "199971  {'continent': 'Europe', 'subContinent': 'North...\n",
       "199972  {'continent': 'Europe', 'subContinent': 'South...\n",
       "199973  {'continent': 'Asia', 'subContinent': 'Southea...\n",
       "199974  {'continent': 'Americas', 'subContinent': 'Nor...\n",
       "199975  {'continent': 'Europe', 'subContinent': 'Weste...\n",
       "199976  {'continent': 'Europe', 'subContinent': 'Weste...\n",
       "199977  {'continent': 'Europe', 'subContinent': 'North...\n",
       "199978  {'continent': 'Americas', 'subContinent': 'Nor...\n",
       "199979  {'continent': 'Asia', 'subContinent': 'Southea...\n",
       "199980  {'continent': 'Europe', 'subContinent': 'Weste...\n",
       "199981  {'continent': 'Oceania', 'subContinent': 'Aust...\n",
       "199982  {'continent': 'Europe', 'subContinent': 'Weste...\n",
       "199983  {'continent': 'Oceania', 'subContinent': 'Aust...\n",
       "199984  {'continent': 'Oceania', 'subContinent': 'Aust...\n",
       "199985  {'continent': 'Europe', 'subContinent': 'Weste...\n",
       "199986  {'continent': 'Europe', 'subContinent': 'Weste...\n",
       "199987  {'continent': 'Europe', 'subContinent': 'North...\n",
       "199988  {'continent': 'Asia', 'subContinent': 'Southea...\n",
       "199989  {'continent': 'Americas', 'subContinent': 'Nor...\n",
       "199990  {'continent': 'Europe', 'subContinent': 'South...\n",
       "199991  {'continent': 'Oceania', 'subContinent': 'Aust...\n",
       "199992  {'continent': 'Europe', 'subContinent': 'South...\n",
       "199993  {'continent': 'Americas', 'subContinent': 'Nor...\n",
       "199994  {'continent': 'Europe', 'subContinent': 'North...\n",
       "199995  {'continent': 'Asia', 'subContinent': 'Souther...\n",
       "199996  {'continent': 'Asia', 'subContinent': 'Souther...\n",
       "199997  {'continent': 'Oceania', 'subContinent': 'Aust...\n",
       "199998  {'continent': 'Americas', 'subContinent': 'Nor...\n",
       "199999  {'continent': 'Asia', 'subContinent': 'Eastern...\n",
       "\n",
       "[200000 rows x 1 columns]"
      ]
     },
     "execution_count": 15,
     "metadata": {},
     "output_type": "execute_result"
    }
   ],
   "source": [
    "new_df"
   ]
  },
  {
   "cell_type": "code",
   "execution_count": 35,
   "metadata": {},
   "outputs": [
    {
     "data": {
      "text/plain": [
       "sys.version_info(major=3, minor=5, micro=4, releaselevel='final', serial=0)"
      ]
     },
     "execution_count": 35,
     "metadata": {},
     "output_type": "execute_result"
    }
   ],
   "source": [
    "import sys\n",
    "sys.version\n",
    "sys.version_info"
   ]
  },
  {
   "cell_type": "code",
   "execution_count": 17,
   "metadata": {
    "collapsed": true
   },
   "outputs": [],
   "source": [
    "name = \"Fred\"\n"
   ]
  },
  {
   "cell_type": "code",
   "execution_count": 24,
   "metadata": {},
   "outputs": [
    {
     "data": {
      "text/plain": [
       "'He said his name is Fred'"
      ]
     },
     "execution_count": 24,
     "metadata": {},
     "output_type": "execute_result"
    }
   ],
   "source": [
    "\"He said his name is {}\".format(name)"
   ]
  },
  {
   "cell_type": "code",
   "execution_count": null,
   "metadata": {
    "collapsed": true
   },
   "outputs": [],
   "source": []
  }
 ],
 "metadata": {
  "kernelspec": {
   "display_name": "Python 3",
   "language": "python",
   "name": "python3"
  },
  "language_info": {
   "codemirror_mode": {
    "name": "ipython",
    "version": 3
   },
   "file_extension": ".py",
   "mimetype": "text/x-python",
   "name": "python",
   "nbconvert_exporter": "python",
   "pygments_lexer": "ipython3",
   "version": "3.6.2"
  }
 },
 "nbformat": 4,
 "nbformat_minor": 2
}
